{
 "cells": [
  {
   "cell_type": "markdown",
   "metadata": {},
   "source": [
    "# Systems Immunogenetics Project\n",
    "\n",
    "## West Nile Virus QTL Mapping, Haplotype Grouping, and Gene Candidate Workflow\n",
    "\n",
    "### McWeeney Lab, Oregon Health & Science University\n",
    "\n",
    "#### Author: Steve Chamberlin (chambest@ohsu.edu)"
   ]
  },
  {
   "cell_type": "markdown",
   "metadata": {},
   "source": [
    "## Introduction\n",
    "\n",
    "This document will walk through the steps for mapping QTLs in the RIX lines for an immune phenotype. After the QTL mapping, the founder effects in the locus will be clustered into high and low effect groups and variants matching the founders in these groups with be identified. And finally, protein coding regions in the locus that contain these variants will also be identified, as well as the predicted impact of the variant on the gene/protein function.\n",
    "\n",
    "Required Files:\n",
    "\n",
    "- This notebook** (`SIG_QTL_Mapping_HaplotypeGrouping_Workflow.ipynb`): [[Download here]](https://github.com/chambest/WNV_QTL_Resource/tree/main/Code)\n",
    "- The R script (contains required R packages and custom functions) (`WNV_rix_qtl_mapping_functions_publication.r`): [[Download here]](https://github.com/chambest/WNV_QTL_Resource/tree/main/Code)\n",
    "- File with Oas1b status for WNV mapping (`Oas1b_status_recoded.txt`): [[Download here]](https://figshare.com/articles/dataset/Mapping_files_needed_for_the_workflow_probability_OAS1b_status_/28147985)\n",
    "- Phenotype data for this example (other tissue, time points, panels are in the same directory) (`PhenotypesWNV Spleen Treg D7.csv`): [[Download here]](https://figshare.com/articles/dataset/Preprocessed_Phenotype_Input_Files_for_the_workflow_derived_from_raw_fcs_files_/28147976)\n",
    "- Universal model probabilities object (`rix_universal_model_prob_males_27-Jun-2016.rda`): [[Download here]](https://figshare.com/articles/dataset/Mapping_files_needed_for_the_workflow_probability_OAS1b_status_/28147985)\n",
    "- Marker file (`CC001-Uncb38V01.csv`): [[Download here]](https://figshare.com/articles/dataset/Mapping_files_needed_for_the_workflow_probability_OAS1b_status_/28147985)\n",
    "- Sanger VCF file for X chromosome, used with the FoundProbAssocPlotsComplexShort_Publication function (`mgp.v5.merged.snps_all.dbSNP142_chrX.recode.vcf.gz`): [[Download here]](https://figshare.com/articles/dataset/Sanger_VCF_file_and_index_for_mouse_X-chromosome/28147958)\n",
    "- Sanger VCF index file for X chromosome, used with the FoundProbAssocPlotsComplexShort_Publication function (`mgp.v5.merged.snps_all.dbSNP142_chrX.recode.vcf.gz.tbi`): [[Download here]](https://figshare.com/articles/dataset/Sanger_VCF_file_and_index_for_mouse_X-chromosome/28147958)\n",
    "- MGI annotation file, used in the FoundProbAssocPlotsComplexShort_Publication function (`mgi_annotation.rpt`): [[Download here]](https://figshare.com/articles/dataset/Mouse_annotation_files/28147991)\n",
    "- Uniprot annotation file, used in the FoundProbAssocPlotsComplexShort_Publication function (`MOUSE_10090_idmapping.dat`): [[Download here]](https://figshare.com/articles/dataset/Mouse_annotation_files/28147991)\n",
    "\n",
    "\n",
    "\n",
    "** Note: this notebook can also be downloaded as an R script (only the code blocks seen below will be included): [[Download R script here]](https://raw.githubusercontent.com/biodev/SIG/master/SIG_QTL_Mapping_HaplotypeGrouping_Workflow.r)\n",
    "\n",
    "**All code is available on GitHub: https://github.com/chambest/WNV_QTL_Resource ** \n",
    "\n",
    "If you are not familiar with Jupyter Notebooks, there is the following documentation online:\n",
    "\n",
    "1. [Jupyter for R Tutorial](http://nbviewer.jupyter.org/github/mooneymi/jupyter_notebooks/blob/master/r/Getting_Started_R.ipynb)\n",
    "2. [Jupyter Documentation](http://jupyter.org/)\n",
    "3. [Conda and R](https://www.continuum.io/conda-for-r)\n",
    "\n",
    "#### Output\n",
    "\n",
    "At the end, this workflow will output an R data file that contains a dataframe containing all of the variants found in the QTL interval that have been annotated with their predicted impact and whether they are contained in a protein coding region and the QTL object created from DOQTL."
   ]
  },
  {
   "cell_type": "markdown",
   "metadata": {},
   "source": [
    "## Step 1. Load Necessary R Functions and Libraries, Download All Required Files"
   ]
  },
  {
   "cell_type": "code",
   "execution_count": null,
   "metadata": {},
   "outputs": [],
   "source": [
    "## Load R functions and libraries\n",
    "source('../WNV_rix_qtl_mapping_functions_publication.r')\n",
    "\n",
    "### All of the files below need to have destination directories added by replacing ??????. ####\n",
    "\n",
    "# Download Oas1b_status_recoded.txt\n",
    "download.file(url = \"https://figshare.com/ndownloader/files/51510053\", destfile = \"??????/Data/Mapping/Oas1b_status_recoded.txt\")\n",
    "\n",
    "# Download PhenotypesWNV Spleen Treg D7.csv. Both the file name and the directory destination need to be \n",
    "# added for this since there are 30 phenotype files\n",
    "download.file(url = \"https://figshare.com/ndownloader/files/51509957\", destfile = \"??????/Data/Phenotypes/PhenotypesWNV Spleen Treg D7.csv\")\n",
    " \n",
    "# Download rix_universal_model_prob_males_27-Jun-2016.rda\n",
    "download.file(url = \"https://figshare.com/ndownloader/files/51510062\", destfile = \"??????/Data/Mapping/rix_universal_model_prob_males_27-Jun-2016.rda\")\n",
    "\n",
    "# Download CC001-Uncb38V01.csv\n",
    "download.file(url = \"https://figshare.com/ndownloader/files/51510059\", destfile = \"??????/Data/Mapping/CC001-Uncb38V01.csv\")\n",
    "\n",
    "# Download mgp.v5.merged.snps_all.dbSNP142_chrX.recode.vcf.gz\n",
    "download.file(url = \"https://figshare.com/ndownloader/files/51509939\", destfile = \"??????/Data/Sanger/mgp.v5.merged.snps_all.dbSNP142_chrX.recode.vcf.gz\")\n",
    "\n",
    "# Download mgp.v5.merged.snps_all.dbSNP142_chrX.recode.vcf.gz.tbi\n",
    "download.file(url = \"https://figshare.com/ndownloader/files/51509936\", destfile = \"??????/Data/Sanger/mgp.v5.merged.snps_all.dbSNP142_chrX.recode.vcf.gz.tbi\")\n",
    "\n",
    "# Download mgi_annotation.rpt\n",
    "download.file(url = \"https://figshare.com/ndownloader/files/51510080\", destfile = \"??????/Data/Annotation/mgi_annotation.rpt\")\n",
    "\n",
    "# Download MOUSE_10090_idmapping.dat\n",
    "download.file(url = \"https://figshare.com/ndownloader/files/51510083\", destfile = \"??????/Data/Annotation/MOUSE_10090_idmapping.dat\")\n"
   ]
  },
  {
   "cell_type": "markdown",
   "metadata": {},
   "source": [
    "## Step 2. Create Phenotype Dataframe"
   ]
  },
  {
   "cell_type": "code",
   "execution_count": null,
   "metadata": {},
   "outputs": [],
   "source": [
    "## Read phenotype data, also need to make sure these directories are created and fully notated here\n",
    "cleaned_data_dir = '?????/Data/Phenotypes'\n",
    "pheno_dir = '?????/Data/Phenotypes'\n",
    "mapping_dir = '?????/Data/Mapping'\n",
    "data_dir = '?????/Data/Output'\n",
    "\n",
    "## For this example we're working with a Spleen Treg phenotype from day 7 post infection\n",
    "pheno = read.csv(file.path(cleaned_data_dir, 'PhenotypesWNV Spleen Treg D7.csv'), header=T, as.is=T)\n",
    "dim(pheno)"
   ]
  },
  {
   "cell_type": "code",
   "execution_count": null,
   "metadata": {},
   "outputs": [],
   "source": [
    "## The phenotype will be D7 WNV in spleen, treg_CD4pos_Foxp3neg_box_cox_7_WNV_Spleen\n",
    "pheno = pheno[with(pheno, Virus=='WNV' & Timepoint=='7' & Tissue=='spleen'), ]\n",
    "dim(pheno)"
   ]
  },
  {
   "cell_type": "code",
   "execution_count": null,
   "metadata": {},
   "outputs": [],
   "source": [
    "## View the phenotype distribution accross the mapping population\n",
    "library(lattice)\n",
    "dotplot(reorder(pheno[,'UW_Line'], pheno[,'treg_CD4pos_Foxp3neg_box_cox_7_WNV_Spleen'], mean, na.rm=T) ~ \n",
    "        pheno[,'treg_CD4pos_Foxp3neg_box_cox_7_WNV_Spleen'], \n",
    "        panel = function(x,y,...) {panel.dotplot(x,y,...); panel.abline(v=0, col.line=\"red\")}, \n",
    "        pch=19, ylab='UW Line', xlab=\"treg_CD4pos_Foxp3neg_box_cox_7_WNV_Spleen\")"
   ]
  },
  {
   "cell_type": "markdown",
   "metadata": {},
   "source": [
    "\n",
    "## Step 3. Update Phenotypes and Create Covariate Dataframe\n"
   ]
  },
  {
   "cell_type": "code",
   "execution_count": null,
   "metadata": {},
   "outputs": [],
   "source": [
    "## Sort pheno dataframe and set rownames\n",
    "pheno = pheno[with(pheno, order(Mating, RIX_ID)),]\n",
    "rownames(pheno) = pheno$ID\n",
    "\n",
    "## Add sex column\n",
    "pheno$sex = 'M'"
   ]
  },
  {
   "cell_type": "code",
   "execution_count": null,
   "metadata": {},
   "outputs": [],
   "source": [
    "## Create covariate dataframe (must include sex)\n",
    "covar = data.frame(sex = as.numeric(pheno$sex == 'M'))\n",
    "#covar = data.frame(sex = pheno$sex)\n",
    "rownames(covar) = pheno$ID"
   ]
  },
  {
   "cell_type": "code",
   "execution_count": null,
   "metadata": {},
   "outputs": [],
   "source": [
    "## Get IDs and Matings for each sample\n",
    "samples = pheno$ID\n",
    "matings = unlist(lapply(strsplit(samples, '_'), function(x) {x[1]}))\n",
    "matings = unique(matings)"
   ]
  },
  {
   "cell_type": "code",
   "execution_count": null,
   "metadata": {},
   "outputs": [],
   "source": [
    "## Read strain ID mapping file (with Oas1b status for WNV mapping analyses)\n",
    "## Note: use the Mx1 file (linked at top) for Flu analyses\n",
    "strain_map = read.delim(file.path(mapping_dir, 'Oas1b_status_recoded.txt'), header=T, as.is=T, sep='\\t')\n",
    "head(strain_map)"
   ]
  },
  {
   "cell_type": "code",
   "execution_count": null,
   "metadata": {},
   "outputs": [],
   "source": [
    "## Check that matings match the strain mapping file\n",
    "setdiff(matings, strain_map$Mating)"
   ]
  },
  {
   "cell_type": "code",
   "execution_count": null,
   "metadata": {},
   "outputs": [],
   "source": [
    "## Update covar with Oas1b status (only for WNV analyses)\n",
    "covar$Mating = pheno$Mating\n",
    "covar$Oas1b = sapply(covar$Mating, function(x) {if (x %in% strain_map$Mating) strain_map$Oas1b[strain_map$Mating == x] else NA})\n",
    "covar$Oas1b_High = sapply(covar$Mating, function(x) {if (x %in% strain_map$Mating) strain_map$Oas1b_High[strain_map$Mating == x] else NA})\n",
    "covar$Oas1b_Mod = sapply(covar$Mating, function(x) {if (x %in% strain_map$Mating) strain_map$Oas1b_Mod[strain_map$Mating == x] else NA})\n",
    "covar$Oas1b_Low = sapply(covar$Mating, function(x) {if (x %in% strain_map$Mating) strain_map$Oas1b_Low[strain_map$Mating == x] else NA})\n",
    "pheno$Oas1b = covar$Oas1b\n",
    "pheno$Oas1b_High = covar$Oas1b_High\n",
    "pheno$Oas1b_Mod = covar$Oas1b_Mod\n",
    "pheno$Oas1b_Low = covar$Oas1b_Low"
   ]
  },
  {
   "cell_type": "markdown",
   "metadata": {},
   "source": [
    "## Step 4. Construct 3D Array of Probabilities"
   ]
  },
  {
   "cell_type": "code",
   "execution_count": null,
   "metadata": {},
   "outputs": [],
   "source": [
    "## Load universal model probabilities (loads a model.probs object containing all RIX lines)\n",
    "load(file.path(mapping_dir, 'rix_universal_model_prob_males_27-Jun-2016.rda'))"
   ]
  },
  {
   "cell_type": "code",
   "execution_count": null,
   "metadata": {},
   "outputs": [],
   "source": [
    "## Create model.probs array specific to the mapping population\n",
    "model.probs = model.probs[pheno$Mating, , ]\n",
    "dimnames(model.probs)[[1]] = pheno$ID"
   ]
  },
  {
   "cell_type": "code",
   "execution_count": null,
   "metadata": {},
   "outputs": [],
   "source": [
    "## Check model.probs object\n",
    "dim(model.probs)\n",
    "names(dimnames(model.probs))\n",
    "dim(model.probs)[1] == dim(pheno)[1]\n",
    "model.probs[1,,1:5]"
   ]
  },
  {
   "cell_type": "code",
   "execution_count": null,
   "metadata": {},
   "outputs": [],
   "source": [
    "## Fix very small genotype probabilities\n",
    "model.probs[model.probs < 0.005] = 1e-20"
   ]
  },
  {
   "cell_type": "code",
   "execution_count": null,
   "metadata": {},
   "outputs": [],
   "source": [
    "## Check model.probs object\n",
    "model.probs[1,,1:5]"
   ]
  },
  {
   "cell_type": "markdown",
   "metadata": {},
   "source": [
    "## Step 5. Calculate Kinship Matrix"
   ]
  },
  {
   "cell_type": "code",
   "execution_count": null,
   "metadata": {},
   "outputs": [],
   "source": [
    "## Create kinship probability matrix\n",
    "K = kinship.probs(model.probs)"
   ]
  },
  {
   "cell_type": "code",
   "execution_count": null,
   "metadata": {},
   "outputs": [],
   "source": [
    "## Garbage collection might help free memory\n",
    "gc()"
   ]
  },
  {
   "cell_type": "code",
   "execution_count": null,
   "metadata": {},
   "outputs": [],
   "source": [
    "## Check kinship matrix\n",
    "K[1:5, 1:5]"
   ]
  },
  {
   "cell_type": "markdown",
   "metadata": {},
   "source": [
    "## Step 6. Perform QTL Scan"
   ]
  },
  {
   "cell_type": "code",
   "execution_count": null,
   "metadata": {},
   "outputs": [],
   "source": [
    "## First get marker positions\n",
    "marker_pos = read.csv(file.path(mapping_dir, 'CC001-Uncb38V01.csv'), as.is=T)\n",
    "marker_pos = marker_pos[,1:3]\n",
    "marker_pos$position_cM = NA\n",
    "head(marker_pos)"
   ]
  },
  {
   "cell_type": "code",
   "execution_count": null,
   "metadata": {},
   "outputs": [],
   "source": [
    "## Run QTL scan\n",
    "qtl = scanone(pheno=pheno, pheno.col='treg_CD4pos_Foxp3neg_box_cox_7_WNV_Spleen', probs=model.probs, K=K, \n",
    "              addcovar=covar[, c(\"Oas1b_High\", \"Oas1b_Mod\",'sex'), drop=F], snps=marker_pos)"
   ]
  },
  {
   "cell_type": "code",
   "execution_count": null,
   "metadata": {},
   "outputs": [],
   "source": [
    "## Run permutations to calculate significance threshold\n",
    "## Note: nperm=10 is for demonstration purposes only. Normally, at least 1000 permutations should be done.\n",
    "perms = scanone.perm(pheno=pheno, pheno.col='treg_CD4pos_Foxp3neg_box_cox_7_WNV_Spleen', probs=model.probs, \n",
    "                     addcovar=covar[, c('sex', \"Oas1b_High\", \"Oas1b_Mod\"), drop=F], snps=marker_pos, nperm = 10)"
   ]
  },
  {
   "cell_type": "code",
   "execution_count": null,
   "metadata": {},
   "outputs": [],
   "source": [
    "## Get the significance thresholds\n",
    "sig.thr = get.sig.thr(perms[,,'treg_CD4pos_Foxp3neg_box_cox_7_WNV_Spleen'], alpha=0.05)\n",
    "sugg.thr = get.sig.thr(perms[,,'treg_CD4pos_Foxp3neg_box_cox_7_WNV_Spleen'], alpha=0.1)\n",
    "med.thr = get.sig.thr(perms[,,'treg_CD4pos_Foxp3neg_box_cox_7_WNV_Spleen'], alpha=0.5)"
   ]
  },
  {
   "cell_type": "code",
   "execution_count": null,
   "metadata": {},
   "outputs": [],
   "source": [
    "## Plot QTL results\n",
    "plot(qtl, sig.thr = sig.thr, main = 'Day 7 Spleen Treg CD4pos Foxp3neg')\n",
    "\n",
    "## Add lines for suggestive peaks (alpha = 0.1)\n",
    "lines(x = c(0, 2462), y = rep(sugg.thr[1,\"A\"], 2), lwd = 2, lty=2, col = 'red')\n",
    "lines(x = c(2462, 2633), y = rep(sugg.thr[1,\"X\"], 2), lwd = 2, lty=2, col = 'red')"
   ]
  },
  {
   "cell_type": "markdown",
   "metadata": {},
   "source": [
    "## Step 7. Identify QTL Intervals"
   ]
  },
  {
   "cell_type": "code",
   "execution_count": null,
   "metadata": {},
   "outputs": [],
   "source": [
    "## Identify the Bayes Credible Interval for the peak on chromosome X\n",
    "interval = bayesint_v2(qtl, chr = 'X')\n",
    "interval"
   ]
  },
  {
   "cell_type": "markdown",
   "metadata": {},
   "source": [
    "## Step 8. Create a Coefficient Plot and Probability Plot for Significant Peaks"
   ]
  },
  {
   "cell_type": "code",
   "execution_count": null,
   "metadata": {},
   "outputs": [],
   "source": [
    "## Create founder effects (coefficient) plot for peak interval\n",
    "coefplot_v2(qtl, chr='X', start=interval[1,3], end=interval[3,3], sex='M', main='treg_CD4pos_Foxp3neg_box_cox_7_WNV_Spleen', cex.main=.7)"
   ]
  },
  {
   "cell_type": "code",
   "execution_count": null,
   "metadata": {},
   "outputs": [],
   "source": [
    "## Get marker at peak\n",
    "get_min_marker(qtl, chr='X')"
   ]
  },
  {
   "cell_type": "code",
   "execution_count": null,
   "metadata": {},
   "outputs": [],
   "source": [
    "## Create probability plot\n",
    "phenoclass=\"Treg Spleen Day 7\" #used in report title names\n",
    "prob.plot(pheno=pheno, pheno.col='treg_CD4pos_Foxp3neg_box_cox_7_WNV_Spleen', probs=model.probs, marker='UNC31155388', qtl=qtl)"
   ]
  },
  {
   "cell_type": "markdown",
   "metadata": {},
   "source": [
    "## Step 9. Run haplotype groupings, identify variants of interest in QTL interval, and identify gene candidates"
   ]
  },
  {
   "cell_type": "code",
   "execution_count": null,
   "metadata": {},
   "outputs": [],
   "source": [
    "# Directories in the following function will need to be changed to map the directories in the above file downloads\n",
    "phenocol<-'treg_CD4pos_Foxp3neg_box_cox_7_WNV_Spleen'\n",
    "phenocolend=\"WNV_Spleen\"\n",
    "untransphenocol<-substr(phenocol,1,str_locate(phenocol,phenocolend)[,1]-2)\n",
    "start=interval[1,3]\n",
    "end=interval[3,3]\n",
    "sex='M'\n",
    "outputdir=data_dir\n",
    "chr='X'\n",
    "# The following function will need to have the system PATH variable set to run the 'tabix' command. Tabix will also need to be installed to \n",
    "# run this R function\n",
    "# Also, all directory paths in the following function that contain a ?????? need to be explicitly entered into the cod\n",
    "FoundProbAssocPlotsComplexShort_Publication(phenocol=phenocol,untransphenocol=untransphenocol,sex=sex,chr=chr,start=start,end=end,qtl=qtl) \n"
   ]
  },
  {
   "cell_type": "code",
   "execution_count": null,
   "metadata": {},
   "outputs": [],
   "source": []
  }
 ],
 "metadata": {
  "kernelspec": {
   "display_name": "R",
   "language": "R",
   "name": "ir"
  },
  "language_info": {
   "codemirror_mode": "r",
   "file_extension": ".r",
   "mimetype": "text/x-r-source",
   "name": "R",
   "pygments_lexer": "r",
   "version": "4.3.3"
  }
 },
 "nbformat": 4,
 "nbformat_minor": 4
}
